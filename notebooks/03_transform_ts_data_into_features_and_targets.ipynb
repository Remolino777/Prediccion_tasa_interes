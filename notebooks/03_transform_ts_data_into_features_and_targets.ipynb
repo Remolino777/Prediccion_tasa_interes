{
 "cells": [
  {
   "cell_type": "code",
   "execution_count": 1,
   "metadata": {},
   "outputs": [],
   "source": [
    "import pandas as pd"
   ]
  },
  {
   "cell_type": "code",
   "execution_count": 2,
   "metadata": {},
   "outputs": [],
   "source": [
    "from tqdm import tqdm  #### Loading work bar"
   ]
  },
  {
   "cell_type": "code",
   "execution_count": 17,
   "metadata": {},
   "outputs": [],
   "source": [
    "import numpy as np"
   ]
  },
  {
   "cell_type": "code",
   "execution_count": 18,
   "metadata": {},
   "outputs": [],
   "source": [
    "# Funcion para cortar indices y cerar los dataframes\n",
    "def get_cutoff_indices(\n",
    "    data: pd.DataFrame,\n",
    "    n_features: int,\n",
    "    step_size: int\n",
    "    ) -> list:\n",
    "\n",
    "        stop_position = len(data) - 1\n",
    "        \n",
    "        # Start the first sub-sequence at index position 0\n",
    "        subseq_first_idx = 0\n",
    "        subseq_mid_idx = n_features\n",
    "        subseq_last_idx = n_features + 1\n",
    "        indices = []\n",
    "        \n",
    "        while subseq_last_idx <= stop_position:\n",
    "            indices.append((subseq_first_idx, subseq_mid_idx, subseq_last_idx))\n",
    "            \n",
    "            subseq_first_idx += step_size\n",
    "            subseq_mid_idx += step_size\n",
    "            subseq_last_idx += step_size\n",
    "\n",
    "        return indices"
   ]
  },
  {
   "cell_type": "markdown",
   "metadata": {},
   "source": [
    "### Bucle"
   ]
  },
  {
   "cell_type": "code",
   "execution_count": 19,
   "metadata": {},
   "outputs": [],
   "source": [
    "ciudades = ['Bogotá', 'Alrededores de Bogotá', 'Medellín', 'Cali']"
   ]
  },
  {
   "cell_type": "code",
   "execution_count": 26,
   "metadata": {},
   "outputs": [
    {
     "name": "stderr",
     "output_type": "stream",
     "text": [
      "C:\\Users\\USUARIO\\AppData\\Local\\Temp\\ipykernel_14352\\4197580030.py:19: DeprecationWarning: Conversion of an array with ndim > 0 to a scalar is deprecated, and will error in future. Ensure you extract a single element from your array before performing this operation. (Deprecated NumPy 1.25.)\n",
      "  y[u] = df_c.iloc[idx[1]:idx[2]][i].values  # Asegúrate de seleccionar la columna correcta\n",
      "C:\\Users\\USUARIO\\AppData\\Local\\Temp\\ipykernel_14352\\4197580030.py:19: DeprecationWarning: Conversion of an array with ndim > 0 to a scalar is deprecated, and will error in future. Ensure you extract a single element from your array before performing this operation. (Deprecated NumPy 1.25.)\n",
      "  y[u] = df_c.iloc[idx[1]:idx[2]][i].values  # Asegúrate de seleccionar la columna correcta\n"
     ]
    },
    {
     "name": "stdout",
     "output_type": "stream",
     "text": [
      "Locación: Bogotá\n",
      "     month_1    month_2    month_3    month_4    month_5    month_6  \\\n",
      "0  88.135536  88.577888  89.420174  89.383743  91.028763  92.705177   \n",
      "1  88.577888  89.420174  89.383743  91.028763  92.705177  93.595520   \n",
      "2  89.420174  89.383743  91.028763  92.705177  93.595520  94.650833   \n",
      "\n",
      "     month_7    month_8    month_9    month_10    month_11    month_12  \\\n",
      "0  93.595520  94.650833  94.937325   96.869972   99.408813  100.000000   \n",
      "1  94.650833  94.937325  96.869972   99.408813  100.000000  100.978447   \n",
      "2  94.937325  96.869972  99.408813  100.000000  100.978447  101.456337   \n",
      "\n",
      "       Target  \n",
      "0  100.978447  \n",
      "1  101.456337  \n",
      "2  101.592758  \n",
      "Locación: Alrededores de Bogotá\n",
      "     month_1    month_2    month_3    month_4    month_5    month_6  \\\n",
      "0  95.140594  93.794807  92.379166  93.058304  92.995895  93.301338   \n",
      "1  93.794807  92.379166  93.058304  92.995895  93.301338  93.737816   \n",
      "2  92.379166  93.058304  92.995895  93.301338  93.737816  94.237595   \n",
      "\n",
      "     month_7    month_8    month_9    month_10    month_11    month_12  \\\n",
      "0  93.737816  94.237595  95.035858   99.319664   99.941170  100.000000   \n",
      "1  94.237595  95.035858  99.319664   99.941170  100.000000   99.181084   \n",
      "2  95.035858  99.319664  99.941170  100.000000   99.181084   99.522964   \n",
      "\n",
      "      Target  \n",
      "0  99.181084  \n",
      "1  99.522964  \n",
      "2  98.711479  \n"
     ]
    },
    {
     "name": "stderr",
     "output_type": "stream",
     "text": [
      "C:\\Users\\USUARIO\\AppData\\Local\\Temp\\ipykernel_14352\\4197580030.py:19: DeprecationWarning: Conversion of an array with ndim > 0 to a scalar is deprecated, and will error in future. Ensure you extract a single element from your array before performing this operation. (Deprecated NumPy 1.25.)\n",
      "  y[u] = df_c.iloc[idx[1]:idx[2]][i].values  # Asegúrate de seleccionar la columna correcta\n",
      "C:\\Users\\USUARIO\\AppData\\Local\\Temp\\ipykernel_14352\\4197580030.py:19: DeprecationWarning: Conversion of an array with ndim > 0 to a scalar is deprecated, and will error in future. Ensure you extract a single element from your array before performing this operation. (Deprecated NumPy 1.25.)\n",
      "  y[u] = df_c.iloc[idx[1]:idx[2]][i].values  # Asegúrate de seleccionar la columna correcta\n"
     ]
    },
    {
     "name": "stdout",
     "output_type": "stream",
     "text": [
      "Locación: Medellín\n",
      "     month_1    month_2    month_3    month_4    month_5    month_6  \\\n",
      "0  85.920158  86.404739  86.955475  87.901375  89.482590  90.651321   \n",
      "1  86.404739  86.955475  87.901375  89.482590  90.651321  90.811234   \n",
      "2  86.955475  87.901375  89.482590  90.651321  90.811234  92.246246   \n",
      "\n",
      "     month_7    month_8    month_9    month_10    month_11    month_12  \\\n",
      "0  90.811234  92.246246  93.481873   94.609230   97.508186  100.000000   \n",
      "1  92.246246  93.481873  94.609230   97.508186  100.000000  100.438309   \n",
      "2  93.481873  94.609230  97.508186  100.000000  100.438309  100.020622   \n",
      "\n",
      "       Target  \n",
      "0  100.438309  \n",
      "1  100.020622  \n",
      "2   99.858269  \n",
      "Locación: Cali\n",
      "     month_1    month_2    month_3    month_4    month_5    month_6  \\\n",
      "0  96.067886  97.093651  96.884521  96.514610  96.764641  96.315437   \n",
      "1  97.093651  96.884521  96.514610  96.764641  96.315437  96.710236   \n",
      "2  96.884521  96.514610  96.764641  96.315437  96.710236  96.827614   \n",
      "\n",
      "     month_7    month_8    month_9    month_10    month_11    month_12  \\\n",
      "0  96.710236  96.827614  97.533394   98.630508   98.894829  100.000000   \n",
      "1  96.827614  97.533394  98.630508   98.894829  100.000000   99.351578   \n",
      "2  97.533394  98.630508  98.894829  100.000000   99.351578   99.142517   \n",
      "\n",
      "      Target  \n",
      "0  99.351578  \n",
      "1  99.142517  \n",
      "2  98.672653  \n"
     ]
    }
   ],
   "source": [
    "\n",
    "for i in ciudades:\n",
    "    ruta = r'D:\\0_Respaldo\\0_Proyectos_2024\\ML_proyects\\Prediccion tasa de interes\\Prediccion_tasa_interes\\data\\Transform\\ts_'\n",
    "    df_c = pd.read_parquet(f'{ruta}{i}.parquet')\n",
    "    df_c.reset_index(drop=True, inplace=True)  # Asegúrate de que los índices se restablecen\n",
    "\n",
    "    n_features = 12\n",
    "    step_size = 1\n",
    "\n",
    "    indices = get_cutoff_indices(df_c, n_features, step_size)\n",
    "    \n",
    "    n_examples = len(indices)\n",
    "    x = np.ndarray(shape=(n_examples, n_features), dtype=np.float32)\n",
    "    y = np.ndarray(shape=(n_examples), dtype=np.float32)\n",
    "    \n",
    "    months = []\n",
    "\n",
    "    for u, idx in enumerate(indices):\n",
    "        x[u, :] = df_c.iloc[idx[0]:idx[1]][i].values\n",
    "        y[u] = df_c.iloc[idx[1]:idx[2]][i].values  # Asegúrate de seleccionar la columna correcta\n",
    "        months.append(df_c.iloc[idx[1]]['Fecha'])\n",
    "        \n",
    "    feature = pd.DataFrame(x, columns=[f'month_{j+1}' for j in range(n_features)])\n",
    "    \n",
    "    target = pd.DataFrame(y, columns=['Target'])\n",
    "    \n",
    "    # Crear el DataFrame con los datos concatenados.\n",
    "    df_ready = pd.concat([feature, target], axis=1)\n",
    "    \n",
    "    # Exportar los datos al archivo train\n",
    "    ruta = r'D:\\0_Respaldo\\0_Proyectos_2024\\ML_proyects\\Prediccion tasa de interes\\Prediccion_tasa_interes\\data\\Transform\\train\\train_'\n",
    "    df_ready.to_parquet(f'{ruta}{i}.parquet')\n",
    "    print(f'Locación: {i}')\n",
    "    print(df_ready.head(3))    \n",
    "    \n",
    "    "
   ]
  }
 ],
 "metadata": {
  "kernelspec": {
   "display_name": ".venv",
   "language": "python",
   "name": "python3"
  },
  "language_info": {
   "codemirror_mode": {
    "name": "ipython",
    "version": 3
   },
   "file_extension": ".py",
   "mimetype": "text/x-python",
   "name": "python",
   "nbconvert_exporter": "python",
   "pygments_lexer": "ipython3",
   "version": "3.11.9"
  }
 },
 "nbformat": 4,
 "nbformat_minor": 2
}
