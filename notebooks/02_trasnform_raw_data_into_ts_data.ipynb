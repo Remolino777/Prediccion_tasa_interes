{
 "cells": [
  {
   "cell_type": "code",
   "execution_count": 3,
   "metadata": {},
   "outputs": [],
   "source": [
    "import pandas as pd"
   ]
  },
  {
   "cell_type": "code",
   "execution_count": 5,
   "metadata": {},
   "outputs": [],
   "source": [
    "data = pd.read_parquet(r'D:\\0_Respaldo\\0_Proyectos_2024\\ML_proyects\\Prediccion tasa de interes\\Prediccion_tasa_interes\\data\\Transform\\validate_data.parquet')"
   ]
  },
  {
   "cell_type": "code",
   "execution_count": 6,
   "metadata": {},
   "outputs": [],
   "source": [
    "df = data.copy()"
   ]
  },
  {
   "cell_type": "code",
   "execution_count": 7,
   "metadata": {},
   "outputs": [
    {
     "data": {
      "text/html": [
       "<div>\n",
       "<style scoped>\n",
       "    .dataframe tbody tr th:only-of-type {\n",
       "        vertical-align: middle;\n",
       "    }\n",
       "\n",
       "    .dataframe tbody tr th {\n",
       "        vertical-align: top;\n",
       "    }\n",
       "\n",
       "    .dataframe thead th {\n",
       "        text-align: right;\n",
       "    }\n",
       "</style>\n",
       "<table border=\"1\" class=\"dataframe\">\n",
       "  <thead>\n",
       "    <tr style=\"text-align: right;\">\n",
       "      <th></th>\n",
       "      <th>Fecha</th>\n",
       "      <th>Bogotá</th>\n",
       "      <th>Alrededores de Bogotá</th>\n",
       "      <th>Medellín</th>\n",
       "      <th>Cali</th>\n",
       "    </tr>\n",
       "    <tr>\n",
       "      <th>index</th>\n",
       "      <th></th>\n",
       "      <th></th>\n",
       "      <th></th>\n",
       "      <th></th>\n",
       "      <th></th>\n",
       "    </tr>\n",
       "  </thead>\n",
       "  <tbody>\n",
       "    <tr>\n",
       "      <th>24</th>\n",
       "      <td>2006-01-01</td>\n",
       "      <td>88.135533</td>\n",
       "      <td>95.140592</td>\n",
       "      <td>85.920155</td>\n",
       "      <td>96.067890</td>\n",
       "    </tr>\n",
       "    <tr>\n",
       "      <th>25</th>\n",
       "      <td>2006-02-01</td>\n",
       "      <td>88.577887</td>\n",
       "      <td>93.794810</td>\n",
       "      <td>86.404737</td>\n",
       "      <td>97.093648</td>\n",
       "    </tr>\n",
       "    <tr>\n",
       "      <th>26</th>\n",
       "      <td>2006-03-01</td>\n",
       "      <td>89.420177</td>\n",
       "      <td>92.379163</td>\n",
       "      <td>86.955471</td>\n",
       "      <td>96.884520</td>\n",
       "    </tr>\n",
       "    <tr>\n",
       "      <th>27</th>\n",
       "      <td>2006-04-01</td>\n",
       "      <td>89.383739</td>\n",
       "      <td>93.058303</td>\n",
       "      <td>87.901375</td>\n",
       "      <td>96.514610</td>\n",
       "    </tr>\n",
       "    <tr>\n",
       "      <th>28</th>\n",
       "      <td>2006-05-01</td>\n",
       "      <td>91.028766</td>\n",
       "      <td>92.995893</td>\n",
       "      <td>89.482590</td>\n",
       "      <td>96.764640</td>\n",
       "    </tr>\n",
       "  </tbody>\n",
       "</table>\n",
       "</div>"
      ],
      "text/plain": [
       "           Fecha     Bogotá  Alrededores de Bogotá   Medellín       Cali\n",
       "index                                                                   \n",
       "24    2006-01-01  88.135533              95.140592  85.920155  96.067890\n",
       "25    2006-02-01  88.577887              93.794810  86.404737  97.093648\n",
       "26    2006-03-01  89.420177              92.379163  86.955471  96.884520\n",
       "27    2006-04-01  89.383739              93.058303  87.901375  96.514610\n",
       "28    2006-05-01  91.028766              92.995893  89.482590  96.764640"
      ]
     },
     "execution_count": 7,
     "metadata": {},
     "output_type": "execute_result"
    }
   ],
   "source": [
    "df.head(5)"
   ]
  },
  {
   "cell_type": "markdown",
   "metadata": {},
   "source": [
    "### Bucle "
   ]
  },
  {
   "cell_type": "code",
   "execution_count": 1,
   "metadata": {},
   "outputs": [],
   "source": [
    "c_list = ['Bogotá', 'Alrededores de Bogotá', 'Medellín', 'Cali']"
   ]
  },
  {
   "cell_type": "code",
   "execution_count": 9,
   "metadata": {},
   "outputs": [],
   "source": [
    "#Bucle\n",
    "for i in c_list:\n",
    "    df_place = df[['Fecha', i]]\n",
    "    path = r'D:\\0_Respaldo\\0_Proyectos_2024\\ML_proyects\\Prediccion tasa de interes\\Prediccion_tasa_interes\\data\\Transform\\ts_'\n",
    "    df_place.to_parquet(f'{path}{i}.parquet')"
   ]
  },
  {
   "cell_type": "code",
   "execution_count": 6,
   "metadata": {},
   "outputs": [],
   "source": [
    "###### Month Range creation example.\n",
    "\n",
    "# for month in range(1, 13):\n",
    "#     month_name = pd.Timestamp(f'2023-{month:02d}-01').strftime('%B').lower()  # Nombre del mes en minúscula\n",
    "#     df1[f'mes {month_name}'] = df['Fecha'].apply(lambda x: 1 if x.month == month else 0)\n",
    "    \n",
    "    \n",
    "# # Crear semanas\n",
    "# for week in range(1, 53):\n",
    "#     df1[f'semana {week}'] = df['Fecha'].apply(lambda x: 1 if x.isocalendar().week == week else 0)\n",
    "    \n",
    "# # Crear  Trimestres\n",
    "\n",
    "# for quarter in range(1, 5):\n",
    "#     df[f'trimestre {quarter}'] = df['Fecha'].apply(lambda x: 1 if x.quarter == quarter else 0)\n",
    "\n"
   ]
  }
 ],
 "metadata": {
  "kernelspec": {
   "display_name": ".venv",
   "language": "python",
   "name": "python3"
  },
  "language_info": {
   "codemirror_mode": {
    "name": "ipython",
    "version": 3
   },
   "file_extension": ".py",
   "mimetype": "text/x-python",
   "name": "python",
   "nbconvert_exporter": "python",
   "pygments_lexer": "ipython3",
   "version": "3.11.9"
  }
 },
 "nbformat": 4,
 "nbformat_minor": 2
}
