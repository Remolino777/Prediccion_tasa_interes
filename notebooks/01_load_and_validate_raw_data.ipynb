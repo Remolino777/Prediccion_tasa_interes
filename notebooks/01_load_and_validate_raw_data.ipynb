{
 "cells": [
  {
   "cell_type": "code",
   "execution_count": 2,
   "metadata": {},
   "outputs": [],
   "source": [
    "import pandas as pd\n",
    "# hay instalar el modulo openpyxl para que pueda leer el archivo xlsx\n"
   ]
  },
  {
   "cell_type": "code",
   "execution_count": 3,
   "metadata": {},
   "outputs": [],
   "source": [
    "#load xlsx file\n",
    "ruta = r'D:\\0_Respaldo\\0_Proyectos_2024\\ML proyects\\Prediccion tasa de interes\\Prediccion_tasa_interes\\data\\Serie_historica_ipvnbr.xlsx'\n",
    "data = pd.read_excel(ruta, \n",
    "                     sheet_name='Serie_IPVNBR',\n",
    "                     header=2,\n",
    "                     skiprows=2,\n",
    "                     skipfooter=8)"
   ]
  },
  {
   "cell_type": "code",
   "execution_count": 4,
   "metadata": {},
   "outputs": [],
   "source": [
    "df = data.copy()"
   ]
  },
  {
   "cell_type": "code",
   "execution_count": 5,
   "metadata": {},
   "outputs": [
    {
     "data": {
      "text/html": [
       "<div>\n",
       "<style scoped>\n",
       "    .dataframe tbody tr th:only-of-type {\n",
       "        vertical-align: middle;\n",
       "    }\n",
       "\n",
       "    .dataframe tbody tr th {\n",
       "        vertical-align: top;\n",
       "    }\n",
       "\n",
       "    .dataframe thead th {\n",
       "        text-align: right;\n",
       "    }\n",
       "</style>\n",
       "<table border=\"1\" class=\"dataframe\">\n",
       "  <thead>\n",
       "    <tr style=\"text-align: right;\">\n",
       "      <th></th>\n",
       "      <th>Unnamed: 0</th>\n",
       "      <th>Bogotá</th>\n",
       "      <th>Alrededores de Bogotá4</th>\n",
       "      <th>Medellín</th>\n",
       "      <th>Cali</th>\n",
       "      <th>Agregado</th>\n",
       "      <th>Unnamed: 6</th>\n",
       "      <th>Bogotá.1</th>\n",
       "      <th>Alrededores de Bogotá4,5</th>\n",
       "      <th>Medellín.1</th>\n",
       "      <th>Cali.1</th>\n",
       "      <th>Agregado6</th>\n",
       "    </tr>\n",
       "  </thead>\n",
       "  <tbody>\n",
       "    <tr>\n",
       "      <th>0</th>\n",
       "      <td>2004-01-01</td>\n",
       "      <td>70.822347</td>\n",
       "      <td>77.485793</td>\n",
       "      <td>82.745082</td>\n",
       "      <td>78.583333</td>\n",
       "      <td>76.181847</td>\n",
       "      <td>NaN</td>\n",
       "      <td>80.763841</td>\n",
       "      <td>88.362650</td>\n",
       "      <td>93.876603</td>\n",
       "      <td>89.656405</td>\n",
       "      <td>86.777505</td>\n",
       "    </tr>\n",
       "    <tr>\n",
       "      <th>1</th>\n",
       "      <td>2004-02-01</td>\n",
       "      <td>71.583509</td>\n",
       "      <td>77.564782</td>\n",
       "      <td>82.108312</td>\n",
       "      <td>79.919206</td>\n",
       "      <td>76.448672</td>\n",
       "      <td>NaN</td>\n",
       "      <td>80.731498</td>\n",
       "      <td>87.477145</td>\n",
       "      <td>91.476975</td>\n",
       "      <td>90.402993</td>\n",
       "      <td>86.009062</td>\n",
       "    </tr>\n",
       "    <tr>\n",
       "      <th>2</th>\n",
       "      <td>2004-03-01</td>\n",
       "      <td>71.873342</td>\n",
       "      <td>78.056214</td>\n",
       "      <td>82.037061</td>\n",
       "      <td>81.662989</td>\n",
       "      <td>76.744760</td>\n",
       "      <td>NaN</td>\n",
       "      <td>80.232447</td>\n",
       "      <td>87.134408</td>\n",
       "      <td>90.903185</td>\n",
       "      <td>91.353097</td>\n",
       "      <td>85.548238</td>\n",
       "    </tr>\n",
       "  </tbody>\n",
       "</table>\n",
       "</div>"
      ],
      "text/plain": [
       "  Unnamed: 0     Bogotá  Alrededores de Bogotá4   Medellín       Cali  \\\n",
       "0 2004-01-01  70.822347               77.485793  82.745082  78.583333   \n",
       "1 2004-02-01  71.583509               77.564782  82.108312  79.919206   \n",
       "2 2004-03-01  71.873342               78.056214  82.037061  81.662989   \n",
       "\n",
       "    Agregado  Unnamed: 6   Bogotá.1  Alrededores de Bogotá4,5  Medellín.1  \\\n",
       "0  76.181847         NaN  80.763841                 88.362650   93.876603   \n",
       "1  76.448672         NaN  80.731498                 87.477145   91.476975   \n",
       "2  76.744760         NaN  80.232447                 87.134408   90.903185   \n",
       "\n",
       "      Cali.1  Agregado6  \n",
       "0  89.656405  86.777505  \n",
       "1  90.402993  86.009062  \n",
       "2  91.353097  85.548238  "
      ]
     },
     "execution_count": 5,
     "metadata": {},
     "output_type": "execute_result"
    }
   ],
   "source": [
    "df.head(3)"
   ]
  },
  {
   "cell_type": "code",
   "execution_count": 6,
   "metadata": {},
   "outputs": [
    {
     "data": {
      "text/plain": [
       "Index(['Unnamed: 0', 'Bogotá', 'Alrededores de Bogotá4', 'Medellín', 'Cali',\n",
       "       'Agregado', 'Unnamed: 6', 'Bogotá.1', 'Alrededores de Bogotá4,5',\n",
       "       'Medellín.1', 'Cali.1', 'Agregado6'],\n",
       "      dtype='object')"
      ]
     },
     "execution_count": 6,
     "metadata": {},
     "output_type": "execute_result"
    }
   ],
   "source": [
    "df.columns"
   ]
  },
  {
   "cell_type": "markdown",
   "metadata": {},
   "source": [
    "### Data Validation"
   ]
  },
  {
   "cell_type": "code",
   "execution_count": 7,
   "metadata": {},
   "outputs": [
    {
     "data": {
      "text/plain": [
       "count                              244\n",
       "mean     2014-02-14 20:03:56.065573888\n",
       "min                2004-01-01 00:00:00\n",
       "25%                2009-01-24 06:00:00\n",
       "50%                2014-02-15 00:00:00\n",
       "75%                2019-03-08 18:00:00\n",
       "max                2024-04-01 00:00:00\n",
       "Name: Unnamed: 0, dtype: object"
      ]
     },
     "execution_count": 7,
     "metadata": {},
     "output_type": "execute_result"
    }
   ],
   "source": [
    "# Reviso que la fecha este correcta en el perido de tiempo de 2006 a la actualidad.\n",
    "df['Unnamed: 0'].describe()"
   ]
  },
  {
   "cell_type": "markdown",
   "metadata": {},
   "source": [
    "Se puede observar que hay fechas menores al 2006 por tal motivo ajustare la fecha."
   ]
  },
  {
   "cell_type": "code",
   "execution_count": 8,
   "metadata": {},
   "outputs": [],
   "source": [
    "df = df[df['Unnamed: 0'] >= '2006-01-01']"
   ]
  },
  {
   "cell_type": "code",
   "execution_count": 9,
   "metadata": {},
   "outputs": [],
   "source": [
    "df1 = df[['Unnamed: 0','Bogotá.1','Alrededores de Bogotá4,5','Medellín.1','Cali.1']]"
   ]
  },
  {
   "cell_type": "code",
   "execution_count": 10,
   "metadata": {},
   "outputs": [
    {
     "data": {
      "text/html": [
       "<div>\n",
       "<style scoped>\n",
       "    .dataframe tbody tr th:only-of-type {\n",
       "        vertical-align: middle;\n",
       "    }\n",
       "\n",
       "    .dataframe tbody tr th {\n",
       "        vertical-align: top;\n",
       "    }\n",
       "\n",
       "    .dataframe thead th {\n",
       "        text-align: right;\n",
       "    }\n",
       "</style>\n",
       "<table border=\"1\" class=\"dataframe\">\n",
       "  <thead>\n",
       "    <tr style=\"text-align: right;\">\n",
       "      <th></th>\n",
       "      <th>Unnamed: 0</th>\n",
       "      <th>Bogotá.1</th>\n",
       "      <th>Alrededores de Bogotá4,5</th>\n",
       "      <th>Medellín.1</th>\n",
       "      <th>Cali.1</th>\n",
       "    </tr>\n",
       "  </thead>\n",
       "  <tbody>\n",
       "    <tr>\n",
       "      <th>24</th>\n",
       "      <td>2006-01-01</td>\n",
       "      <td>88.135533</td>\n",
       "      <td>95.140592</td>\n",
       "      <td>85.920155</td>\n",
       "      <td>96.067890</td>\n",
       "    </tr>\n",
       "    <tr>\n",
       "      <th>25</th>\n",
       "      <td>2006-02-01</td>\n",
       "      <td>88.577887</td>\n",
       "      <td>93.794810</td>\n",
       "      <td>86.404737</td>\n",
       "      <td>97.093648</td>\n",
       "    </tr>\n",
       "    <tr>\n",
       "      <th>26</th>\n",
       "      <td>2006-03-01</td>\n",
       "      <td>89.420177</td>\n",
       "      <td>92.379163</td>\n",
       "      <td>86.955471</td>\n",
       "      <td>96.884520</td>\n",
       "    </tr>\n",
       "    <tr>\n",
       "      <th>27</th>\n",
       "      <td>2006-04-01</td>\n",
       "      <td>89.383739</td>\n",
       "      <td>93.058303</td>\n",
       "      <td>87.901375</td>\n",
       "      <td>96.514610</td>\n",
       "    </tr>\n",
       "    <tr>\n",
       "      <th>28</th>\n",
       "      <td>2006-05-01</td>\n",
       "      <td>91.028766</td>\n",
       "      <td>92.995893</td>\n",
       "      <td>89.482590</td>\n",
       "      <td>96.764640</td>\n",
       "    </tr>\n",
       "  </tbody>\n",
       "</table>\n",
       "</div>"
      ],
      "text/plain": [
       "   Unnamed: 0   Bogotá.1  Alrededores de Bogotá4,5  Medellín.1     Cali.1\n",
       "24 2006-01-01  88.135533                 95.140592   85.920155  96.067890\n",
       "25 2006-02-01  88.577887                 93.794810   86.404737  97.093648\n",
       "26 2006-03-01  89.420177                 92.379163   86.955471  96.884520\n",
       "27 2006-04-01  89.383739                 93.058303   87.901375  96.514610\n",
       "28 2006-05-01  91.028766                 92.995893   89.482590  96.764640"
      ]
     },
     "execution_count": 10,
     "metadata": {},
     "output_type": "execute_result"
    }
   ],
   "source": [
    "df1.head(5)"
   ]
  },
  {
   "cell_type": "code",
   "execution_count": 11,
   "metadata": {},
   "outputs": [],
   "source": [
    "df1 = df1.rename(columns={'Unnamed: 0':'Fecha',\n",
    "                    'Bogotá.1':'Bogotá',\n",
    "                    'Alrededores de Bogotá4,5':'Alrededores de Bogotá',\n",
    "                    'Medellín.1':'Medellín',\n",
    "                    'Cali.1':'Cali'\n",
    "                    })"
   ]
  },
  {
   "cell_type": "code",
   "execution_count": 12,
   "metadata": {},
   "outputs": [
    {
     "name": "stdout",
     "output_type": "stream",
     "text": [
      "<class 'pandas.core.frame.DataFrame'>\n",
      "Index: 220 entries, 24 to 243\n",
      "Data columns (total 5 columns):\n",
      " #   Column                 Non-Null Count  Dtype         \n",
      "---  ------                 --------------  -----         \n",
      " 0   Fecha                  220 non-null    datetime64[ns]\n",
      " 1   Bogotá                 220 non-null    float64       \n",
      " 2   Alrededores de Bogotá  220 non-null    float64       \n",
      " 3   Medellín               220 non-null    float64       \n",
      " 4   Cali                   220 non-null    float64       \n",
      "dtypes: datetime64[ns](1), float64(4)\n",
      "memory usage: 10.3 KB\n"
     ]
    }
   ],
   "source": [
    "df1.info()"
   ]
  },
  {
   "cell_type": "code",
   "execution_count": 13,
   "metadata": {},
   "outputs": [
    {
     "data": {
      "text/plain": [
       "0"
      ]
     },
     "execution_count": 13,
     "metadata": {},
     "output_type": "execute_result"
    }
   ],
   "source": [
    "#Valores duplicados\n",
    "df1.duplicated().sum()"
   ]
  },
  {
   "cell_type": "code",
   "execution_count": 14,
   "metadata": {},
   "outputs": [],
   "source": [
    "df1.to_parquet(r'D:\\0_Respaldo\\0_Proyectos_2024\\ML proyects\\Prediccion tasa de interes\\Prediccion_tasa_interes\\data\\Transform\\validate_data.parquet')"
   ]
  }
 ],
 "metadata": {
  "kernelspec": {
   "display_name": ".venv",
   "language": "python",
   "name": "python3"
  },
  "language_info": {
   "codemirror_mode": {
    "name": "ipython",
    "version": 3
   },
   "file_extension": ".py",
   "mimetype": "text/x-python",
   "name": "python",
   "nbconvert_exporter": "python",
   "pygments_lexer": "ipython3",
   "version": "3.11.9"
  }
 },
 "nbformat": 4,
 "nbformat_minor": 2
}
